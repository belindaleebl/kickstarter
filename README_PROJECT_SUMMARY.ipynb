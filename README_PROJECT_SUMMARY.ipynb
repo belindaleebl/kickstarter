{
 "cells": [
  {
   "cell_type": "markdown",
   "metadata": {},
   "source": [
    "# Prediciting Kickstarter Project Status (Success vs. Failed)\n",
    "\n",
    "\n",
    "## 1. Problem Identification \n",
    "\n",
    "Kickstarter is a crowdfunding website for groups or individuals looking to raise funds to start a personl or professional project. Project ideas range from technology and consumer gadgets, to brick and mortar restaurants, or music, plays and productions. The definition of a successful project is to reach and/or exceed the goal amount within the 60 days that Kickstarer allows per campaign. With vested community interest in the projects, my goal is to understand what factors could indicate a successful project, and whether or not this data can help new teams make their projects more likely to succeed. \n",
    "\n",
    "\n",
    "\n"
   ]
  },
  {
   "cell_type": "markdown",
   "metadata": {},
   "source": [
    "\n",
    "## 2. Data Collection, Organization, and Definitions \n",
    "\n",
    "The data is obtained from Kaggle, titled \"Kickstarter Projects\" from Mickaël Mouillé. It is mentioned that the original dataset is pulled directly from the Kickstarter platfrom. For this project, we only looked at the 2016 dataset and did not include the 2018 data. \n",
    "\n",
    "* The dataset started with 17 columns, many of them misaligned, and majority type object. \n",
    "     * My first task was to figure out which columns were misaglied and why. The culprit became clear that any projects with multiple categories selected, extended an extra column by the amount of additional selected cateogry. \n",
    "\n",
    "* I first realigned the columns so that the data is consistend, and then deleted the \"category\" column, relying on the \"main category\" feature for modeling. \n",
    "    * This decision is because some projects fit multip sub categories, but only 1 main cateogry. The \"category\" column also had too many unique values. \n",
    "\n",
    "* Rows with missing data in the \"State\" (dependent variable) were removed, and other missing/NaN values were addressed. \n",
    "\n",
    "* Columns were further reduced for data that did not make sense to include in the model, such as ID, project name, etc. \n",
    "\n",
    "* Datatypes were adjusted for numeric columns \n",
    "\n",
    "![alt text](Images/data.head.png \"dataframe head\")"
   ]
  },
  {
   "cell_type": "markdown",
   "metadata": {},
   "source": [
    "## 3. Exploratory Data Analysis  \n",
    "\n",
    "<p>&nbsp;</p>\n",
    "\n",
    "* Early visualizations show that the project state \"successful\" has many more \"backers\" than any other project state. \n",
    "* Successful projects also tend to have much smaller goal amounts. \n",
    "* Successful projects tended to be listed as technology, games, or design, with these three also having the highest pledge amounts \n",
    "* These three categories also happen to be the top three failed categories as well and thus we're not sure if we can make any inferences from the early visualizations. \n",
    "\n",
    "<p>&nbsp;</p>\n",
    "<p>&nbsp;</p>\n",
    "\n",
    "![alt text](Images\\project_state_backers.png \"Project State vs. Backers\")\n",
    "![alt text](Images/goal_state.png \"Project State vs. Goals\")"
   ]
  },
  {
   "cell_type": "markdown",
   "metadata": {},
   "source": [
    "## 4. Data Preprocessing\n",
    "\n",
    "* Created dummies for the non numerical features. \n",
    "* Separated the independent and dependent variable, then created training and testing data, making sure to stratify so that the training and testing data have similar population profile. \n",
    "\n",
    "## 5. Model\n",
    "\n",
    "<p>&nbsp;</p>\n",
    "\n",
    "* DecisionTree Classifier \n",
    "     * Performed GridSearchCV for best max_depth parameter of 9\n",
    "     * Checked for overfitting and concluded the metrics were aligned and most likely not overfit. \n",
    "     * Feature importance showed only 3 features heavily influenced model (backers, usd_pledged, and goal)\n",
    "     * Used SMOTE to addres data imbalance\n",
    "<p>&nbsp;</p>\n",
    "\n",
    "* RandomForest Classifier \n",
    "    * RandomizedSearchCV to find best n_estimators \n",
    "    * Feature importance showed same three heavy influlencers as DecisionTree \n",
    "    * Used BalancedRandomForest Classifier \n",
    "<p>&nbsp;</p>\n",
    "\n",
    "* Binary DecisionTree and RandomForrest \n",
    "    * Changed dependent variable to binary (Successful or Other) \n",
    "    \n",
    "<p>&nbsp;</p>\n",
    "     \n",
    "![alt text](Images/decision_tree_feature_importance.png \"DecisionTree Feature Importance\")"
   ]
  },
  {
   "cell_type": "markdown",
   "metadata": {},
   "source": [
    "## 6. Metrics and Documentation \n",
    "\n",
    "* DecisionTree \n",
    "    * The precision and recall score for the \"successful\" state was always high, around 0.97, even after balancing the data, but the scores for predicing other states are much lower. This prompted me to consider binary classification \n",
    "<p>&nbsp;</p>\n",
    "\n",
    "* RandomForrest \n",
    "     * Showed similar trend as decision tree, where the precision and recall score for \"successful\" state is high, while other values were lower. \n",
    "     * Showed similar but slightly lower metrics compared to DecisionTree at 0.8 and 0.85 for weighted average on the precision and recall. \n",
    "<p>&nbsp;</p>\n",
    "\n",
    "* Binary classification scored the highest for both DecisionTree and Randomforest, with weighted averages for Precision and Recall at 0.98   \n",
    "<p>&nbsp;</p>\n",
    "\n"
   ]
  },
  {
   "cell_type": "markdown",
   "metadata": {},
   "source": [
    "## Recommendations and Areas of Improvement \n",
    "\n",
    "Overall I'd recommend using the binary RandomForest classifier for the highest score. The scores for both binary classifiers are so similar, but the the binary RandomForest score 0.01 point higher on precison for not successful projects. Since our goal is to predict whether a project is successful and what factors could increase success, all other states of project could be lumped together. \n",
    "\n",
    "\n",
    "1. We understand that successful projects are typically determined by three features, the number of backers, the orinal goal amount, and the amount of money pledged. Potential Kickstarter project can now consider arranging their intial project to a small goal amount or encourage larger amount of pledges for smaller upfront payment to increase their chances of success. \n",
    "<p>&nbsp;</p>\n",
    "\n",
    "2. As a pledger, we can also understand better a project's likely outcome, and choose to pledge when we feel that the project is more likely to succeed. \n",
    "<p>&nbsp;</p>\n",
    "\n",
    "3. For future improvement, we can perform A/B testing to understand where the cutoff numbers might be, for exmaple, how many backers is \"enough\" to be successful. What should be the ideal goal amount. "
   ]
  },
  {
   "cell_type": "code",
   "execution_count": null,
   "metadata": {},
   "outputs": [],
   "source": []
  }
 ],
 "metadata": {
  "kernelspec": {
   "display_name": "Python 3",
   "language": "python",
   "name": "python3"
  },
  "language_info": {
   "codemirror_mode": {
    "name": "ipython",
    "version": 3
   },
   "file_extension": ".py",
   "mimetype": "text/x-python",
   "name": "python",
   "nbconvert_exporter": "python",
   "pygments_lexer": "ipython3",
   "version": "3.8.5"
  }
 },
 "nbformat": 4,
 "nbformat_minor": 4
}
