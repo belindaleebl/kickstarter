{
 "cells": [
  {
   "cell_type": "code",
   "execution_count": 1,
   "metadata": {},
   "outputs": [],
   "source": [
    "import pandas as pd\n",
    "import numpy as np\n",
    "import matplotlib.pyplot as plt\n",
    "from datetime import datetime, date\n",
    "from sklearn.model_selection import train_test_split, GridSearchCV, cross_val_score\n",
    "from sklearn.tree import DecisionTreeClassifier"
   ]
  },
  {
   "cell_type": "code",
   "execution_count": 2,
   "metadata": {},
   "outputs": [],
   "source": [
    "df = pd.read_csv('EDA_Data.csv', index_col = 0)"
   ]
  },
  {
   "cell_type": "code",
   "execution_count": 3,
   "metadata": {},
   "outputs": [
    {
     "data": {
      "text/html": [
       "<div>\n",
       "<style scoped>\n",
       "    .dataframe tbody tr th:only-of-type {\n",
       "        vertical-align: middle;\n",
       "    }\n",
       "\n",
       "    .dataframe tbody tr th {\n",
       "        vertical-align: top;\n",
       "    }\n",
       "\n",
       "    .dataframe thead th {\n",
       "        text-align: right;\n",
       "    }\n",
       "</style>\n",
       "<table border=\"1\" class=\"dataframe\">\n",
       "  <thead>\n",
       "    <tr style=\"text-align: right;\">\n",
       "      <th></th>\n",
       "      <th>main_category</th>\n",
       "      <th>currency</th>\n",
       "      <th>goal</th>\n",
       "      <th>state</th>\n",
       "      <th>backers</th>\n",
       "      <th>country</th>\n",
       "      <th>usd_pledged</th>\n",
       "      <th>total_days</th>\n",
       "    </tr>\n",
       "  </thead>\n",
       "  <tbody>\n",
       "    <tr>\n",
       "      <th>0</th>\n",
       "      <td>Publishing</td>\n",
       "      <td>GBP</td>\n",
       "      <td>1000.0</td>\n",
       "      <td>failed</td>\n",
       "      <td>0</td>\n",
       "      <td>GB</td>\n",
       "      <td>0.0</td>\n",
       "      <td>58.0</td>\n",
       "    </tr>\n",
       "    <tr>\n",
       "      <th>1</th>\n",
       "      <td>Film &amp; Video</td>\n",
       "      <td>USD</td>\n",
       "      <td>45000.0</td>\n",
       "      <td>failed</td>\n",
       "      <td>3</td>\n",
       "      <td>US</td>\n",
       "      <td>220.0</td>\n",
       "      <td>45.0</td>\n",
       "    </tr>\n",
       "    <tr>\n",
       "      <th>2</th>\n",
       "      <td>Music</td>\n",
       "      <td>USD</td>\n",
       "      <td>5000.0</td>\n",
       "      <td>failed</td>\n",
       "      <td>1</td>\n",
       "      <td>US</td>\n",
       "      <td>1.0</td>\n",
       "      <td>30.0</td>\n",
       "    </tr>\n",
       "    <tr>\n",
       "      <th>3</th>\n",
       "      <td>Film &amp; Video</td>\n",
       "      <td>USD</td>\n",
       "      <td>19500.0</td>\n",
       "      <td>canceled</td>\n",
       "      <td>14</td>\n",
       "      <td>US</td>\n",
       "      <td>1283.0</td>\n",
       "      <td>55.0</td>\n",
       "    </tr>\n",
       "    <tr>\n",
       "      <th>4</th>\n",
       "      <td>Food</td>\n",
       "      <td>USD</td>\n",
       "      <td>50000.0</td>\n",
       "      <td>successful</td>\n",
       "      <td>224</td>\n",
       "      <td>US</td>\n",
       "      <td>52375.0</td>\n",
       "      <td>35.0</td>\n",
       "    </tr>\n",
       "  </tbody>\n",
       "</table>\n",
       "</div>"
      ],
      "text/plain": [
       "  main_category currency     goal       state  backers country  usd_pledged  \\\n",
       "0    Publishing      GBP   1000.0      failed        0      GB          0.0   \n",
       "1  Film & Video      USD  45000.0      failed        3      US        220.0   \n",
       "2         Music      USD   5000.0      failed        1      US          1.0   \n",
       "3  Film & Video      USD  19500.0    canceled       14      US       1283.0   \n",
       "4          Food      USD  50000.0  successful      224      US      52375.0   \n",
       "\n",
       "   total_days  \n",
       "0        58.0  \n",
       "1        45.0  \n",
       "2        30.0  \n",
       "3        55.0  \n",
       "4        35.0  "
      ]
     },
     "execution_count": 3,
     "metadata": {},
     "output_type": "execute_result"
    }
   ],
   "source": [
    "df.head()"
   ]
  },
  {
   "cell_type": "code",
   "execution_count": 4,
   "metadata": {
    "scrolled": false
   },
   "outputs": [
    {
     "data": {
      "text/plain": [
       "main_category     object\n",
       "currency          object\n",
       "goal             float64\n",
       "state             object\n",
       "backers            int64\n",
       "country           object\n",
       "usd_pledged      float64\n",
       "total_days       float64\n",
       "dtype: object"
      ]
     },
     "execution_count": 4,
     "metadata": {},
     "output_type": "execute_result"
    }
   ],
   "source": [
    "df.dtypes"
   ]
  },
  {
   "cell_type": "markdown",
   "metadata": {},
   "source": [
    "# Data Preprocessing"
   ]
  },
  {
   "cell_type": "code",
   "execution_count": 5,
   "metadata": {},
   "outputs": [],
   "source": [
    "#separating the categorical/object data types\n",
    "\n",
    "dfo = df[['main_category', 'currency', 'country']]"
   ]
  },
  {
   "cell_type": "code",
   "execution_count": 6,
   "metadata": {},
   "outputs": [],
   "source": [
    "#getting dummies for categoritcal values and adding to the main dataframe while deleting the original features\n",
    "\n",
    "df = pd.concat([df.drop(dfo, axis=1), pd.get_dummies(dfo)], axis=1)"
   ]
  },
  {
   "cell_type": "code",
   "execution_count": 7,
   "metadata": {
    "scrolled": true
   },
   "outputs": [],
   "source": [
    "#creating X and y values, since we are trying to predict the state of the project, this will be our y\n",
    "\n",
    "X = df.drop('state', axis = 1)\n",
    "y = df['state']"
   ]
  },
  {
   "cell_type": "code",
   "execution_count": 8,
   "metadata": {},
   "outputs": [],
   "source": [
    "#splitting the data into training and test sets\n",
    "\n",
    "X_train, X_test, y_train, y_test = train_test_split(X, y, test_size = 0.2, random_state = 42)"
   ]
  },
  {
   "cell_type": "markdown",
   "metadata": {},
   "source": [
    "# DecisionTreeClassifier"
   ]
  },
  {
   "cell_type": "code",
   "execution_count": 9,
   "metadata": {},
   "outputs": [],
   "source": [
    "#finding the best max_depth parameter through gridsearch\n",
    "\n",
    "#decision_tree = DecisionTreeClassifier()\n",
    "#grid_param = {'max_depth': np.arange(3,10),}\n",
    "#can try to add max_samples_split or max_samples_leaf but it might be computationally expensive and take a lot of time. \n",
    "\n",
    "#tree_gridsearchcv = GridSearchCV(decision_tree, grid_param)\n",
    "\n",
    "#tree_gridsearchcv.fit(X_train, y_train)\n",
    "#tree_gridsearchcv.best_params_"
   ]
  },
  {
   "cell_type": "code",
   "execution_count": 10,
   "metadata": {
    "scrolled": true
   },
   "outputs": [],
   "source": [
    "#retraining decision tree model based off of best max_depth param of 9\n",
    "\n",
    "decision_tree = DecisionTreeClassifier(max_depth = 9)\n",
    "decision_tree = decision_tree.fit(X_train, y_train)\n",
    "tree_y_pred = decision_tree.predict(X_test)\n"
   ]
  },
  {
   "cell_type": "code",
   "execution_count": 11,
   "metadata": {
    "scrolled": true
   },
   "outputs": [
    {
     "data": {
      "image/png": "[encoded data removed]",
      "text/plain": [
       "<Figure size 432x288 with 2 Axes>"
      ]
     },
     "metadata": {
      "needs_background": "light"
     },
     "output_type": "display_data"
    }
   ],
   "source": [
    "from sklearn import metrics\n",
    "\n",
    "metrics.plot_confusion_matrix(decision_tree, X_test, y_test, cmap=plt.cm.Blues)\n",
    "plt.title('Decision Tree Confusion Matrix')\n",
    "plt.xticks(rotation=30)\n",
    "plt.show()"
   ]
  },
  {
   "cell_type": "markdown",
   "metadata": {},
   "source": [
    "The confusion matrix shows that our model was pretty great at predicting which projects failed, did decently to predict which projects were successful, but everything lese, the model did a poor job of predicting correctly. For the most part, this isn't too bad, but for example, the 681 that were true successfuls, but our tree model predicted that it failed, that is an area we might be able tune a bit more for better results. "
   ]
  },
  {
   "cell_type": "code",
   "execution_count": 12,
   "metadata": {
    "scrolled": false
   },
   "outputs": [
    {
     "name": "stdout",
     "output_type": "stream",
     "text": [
      "              precision    recall  f1-score   support\n",
      "\n",
      "    canceled       0.37      0.00      0.01      6515\n",
      "      failed       0.81      0.99      0.89     33752\n",
      "        live       0.59      0.03      0.06       895\n",
      "  successful       0.97      0.97      0.97     22557\n",
      "   suspended       0.00      0.00      0.00       272\n",
      "\n",
      "    accuracy                           0.86     63991\n",
      "   macro avg       0.55      0.40      0.39     63991\n",
      "weighted avg       0.81      0.86      0.81     63991\n",
      "\n"
     ]
    }
   ],
   "source": [
    "print(metrics.classification_report(y_test, tree_y_pred))\n",
    "\n",
    "#would focus on weighted average as the metric of choice"
   ]
  },
  {
   "cell_type": "markdown",
   "metadata": {},
   "source": [
    "# Check for overfitting"
   ]
  },
  {
   "cell_type": "code",
   "execution_count": 13,
   "metadata": {},
   "outputs": [],
   "source": [
    "# plot report for training set to see if there is overfitting, results usually should be exaclty the same if not overfit, \n",
    "# but if there are more than 5pts difference, then it is overfitting"
   ]
  },
  {
   "cell_type": "code",
   "execution_count": 14,
   "metadata": {},
   "outputs": [],
   "source": [
    "y_train_pred = decision_tree.predict(X_train)"
   ]
  },
  {
   "cell_type": "code",
   "execution_count": 15,
   "metadata": {
    "scrolled": true
   },
   "outputs": [
    {
     "name": "stdout",
     "output_type": "stream",
     "text": [
      "              precision    recall  f1-score   support\n",
      "\n",
      "    canceled       0.68      0.01      0.02     25877\n",
      "      failed       0.81      0.99      0.89    134751\n",
      "        live       0.86      0.06      0.11      3543\n",
      "  successful       0.97      0.97      0.97     90586\n",
      "   suspended       1.00      0.01      0.01      1205\n",
      "\n",
      "    accuracy                           0.87    255962\n",
      "   macro avg       0.86      0.41      0.40    255962\n",
      "weighted avg       0.86      0.87      0.82    255962\n",
      "\n"
     ]
    }
   ],
   "source": [
    "print(metrics.classification_report(y_train, y_train_pred))"
   ]
  },
  {
   "cell_type": "code",
   "execution_count": 16,
   "metadata": {},
   "outputs": [],
   "source": [
    "# don't believe there is overfitting, because the weighted average for both the test and training \n",
    "# sets are very similar, around 0.86. The scores for failed and successful categories also recieved \n",
    "# identical scores. "
   ]
  },
  {
   "cell_type": "markdown",
   "metadata": {},
   "source": [
    "# Feature Importance for Decision Tree "
   ]
  },
  {
   "cell_type": "code",
   "execution_count": 54,
   "metadata": {
    "scrolled": true
   },
   "outputs": [
    {
     "data": {
      "text/plain": [
       "<BarContainer object of 53 artists>"
      ]
     },
     "execution_count": 54,
     "metadata": {},
     "output_type": "execute_result"
    },
    {
     "data": {
      "image/png": "[encoded data removed]",
      "text/plain": [
       "<Figure size 432x288 with 1 Axes>"
      ]
     },
     "metadata": {
      "needs_background": "light"
     },
     "output_type": "display_data"
    }
   ],
   "source": [
    "importances = decision_tree.feature_importances_\n",
    "plt.barh(X_test.columns, importances)\n",
    "\n",
    "#this is really hard to see with all the different features, but it looks like there are really only 3 that made a difference"
   ]
  },
  {
   "cell_type": "code",
   "execution_count": 59,
   "metadata": {},
   "outputs": [
    {
     "data": {
      "text/plain": [
       "Text(0.5, 1.0, 'Feature Importance for Decision Tree Model')"
      ]
     },
     "execution_count": 59,
     "metadata": {},
     "output_type": "execute_result"
    },
    {
     "data": {
      "image/png": "[encoded data removed]",
      "text/plain": [
       "<Figure size 432x288 with 1 Axes>"
      ]
     },
     "metadata": {
      "needs_background": "light"
     },
     "output_type": "display_data"
    }
   ],
   "source": [
    "#let's separate the top 3 and plot those in terms of feature importance \n",
    "importances = pd.Series(importances, index=X_test.columns)\n",
    "importances.nlargest(3).plot(kind = 'barh')\n",
    "plt.title('Feature Importance for Decision Tree Model')\n",
    "\n",
    "# very clear here that the number of backers, usd_pledged amount, and the goal amount are the influencers of the model. \n",
    "# our initial hypothesis that the main category, or even total days of project might have influence is proved false. "
   ]
  },
  {
   "cell_type": "markdown",
   "metadata": {},
   "source": [
    "# Adjusting model to unbalanced data \n"
   ]
  },
  {
   "cell_type": "code",
   "execution_count": 17,
   "metadata": {},
   "outputs": [],
   "source": [
    "#number of samples per class is not balanced, let's do something to balance it out\n",
    "#imblearn from sklearn for data imbalances"
   ]
  },
  {
   "cell_type": "code",
   "execution_count": 18,
   "metadata": {},
   "outputs": [],
   "source": [
    "from imblearn.over_sampling import SMOTE\n",
    "sm = SMOTE()\n",
    "X_os, y_os = sm.fit_resample(X, y)"
   ]
  },
  {
   "cell_type": "code",
   "execution_count": 19,
   "metadata": {},
   "outputs": [],
   "source": [
    "X_train_os, X_test_os, y_train_os, y_test_os = train_test_split(X_os, y_os, test_size = 0.2, random_state = 42)"
   ]
  },
  {
   "cell_type": "code",
   "execution_count": 20,
   "metadata": {},
   "outputs": [],
   "source": [
    "#refitting classifier with oversample data \n",
    "decision_tree.fit(X_train_os, y_train_os)\n",
    "y_pred_os = decision_tree.predict(X_test_os)"
   ]
  },
  {
   "cell_type": "code",
   "execution_count": 21,
   "metadata": {
    "scrolled": true
   },
   "outputs": [
    {
     "name": "stdout",
     "output_type": "stream",
     "text": [
      "              precision    recall  f1-score   support\n",
      "\n",
      "    canceled       0.39      0.37      0.38     33640\n",
      "      failed       0.52      0.70      0.60     33582\n",
      "        live       0.63      0.50      0.55     33794\n",
      "  successful       0.85      0.90      0.88     33680\n",
      "   suspended       0.55      0.48      0.52     33807\n",
      "\n",
      "    accuracy                           0.59    168503\n",
      "   macro avg       0.59      0.59      0.58    168503\n",
      "weighted avg       0.59      0.59      0.58    168503\n",
      "\n"
     ]
    }
   ],
   "source": [
    "print(metrics.classification_report(y_test_os, y_pred_os))"
   ]
  },
  {
   "cell_type": "code",
   "execution_count": 22,
   "metadata": {},
   "outputs": [
    {
     "name": "stdout",
     "output_type": "stream",
     "text": [
      "                   pre       rec       spe        f1       geo       iba       sup\n",
      "\n",
      "   canceled       0.37      0.00      1.00      0.01      0.06      0.00      6515\n",
      "     failed       0.81      0.99      0.74      0.89      0.85      0.75     33752\n",
      "       live       0.59      0.03      1.00      0.06      0.18      0.03       895\n",
      " successful       0.97      0.97      0.98      0.97      0.98      0.95     22557\n",
      "  suspended       0.00      0.00      1.00      0.00      0.00      0.00       272\n",
      "\n",
      "avg / total       0.81      0.86      0.85      0.81      0.80      0.73     63991\n",
      "\n"
     ]
    }
   ],
   "source": [
    "import imblearn\n",
    "print(imblearn.metrics.classification_report_imbalanced(y_test, tree_y_pred))"
   ]
  },
  {
   "cell_type": "markdown",
   "metadata": {},
   "source": [
    "# Binary classification for Decision Tree"
   ]
  },
  {
   "cell_type": "code",
   "execution_count": 23,
   "metadata": {},
   "outputs": [],
   "source": [
    "from sklearn import preprocessing \n",
    "y2 = preprocessing.label_binarize(y, classes = ['successful'])"
   ]
  },
  {
   "cell_type": "code",
   "execution_count": 24,
   "metadata": {},
   "outputs": [],
   "source": [
    "#retraining classifier since the y is now binary class\n",
    "X_train2, X_test2, y_train2, y_test2 = train_test_split(X, y2, test_size = 0.2, random_state = 42)\n",
    "decision_tree = decision_tree.fit(X_train2, y_train2)\n",
    "tree_y_pred2 = decision_tree.predict(X_test2)"
   ]
  },
  {
   "cell_type": "code",
   "execution_count": 25,
   "metadata": {},
   "outputs": [
    {
     "data": {
      "image/png": "[encoded data removed]",
      "text/plain": [
       "<Figure size 432x288 with 2 Axes>"
      ]
     },
     "metadata": {
      "needs_background": "light"
     },
     "output_type": "display_data"
    }
   ],
   "source": [
    "metrics.plot_confusion_matrix(decision_tree, X_test2, y_test2, cmap=plt.cm.Blues)\n",
    "plt.title('Decision Tree Binary y Confusion Matrix')\n",
    "plt.show()"
   ]
  },
  {
   "cell_type": "code",
   "execution_count": 26,
   "metadata": {
    "scrolled": true
   },
   "outputs": [
    {
     "name": "stdout",
     "output_type": "stream",
     "text": [
      "              precision    recall  f1-score   support\n",
      "\n",
      "           0       0.98      0.98      0.98     41434\n",
      "           1       0.97      0.97      0.97     22557\n",
      "\n",
      "    accuracy                           0.98     63991\n",
      "   macro avg       0.98      0.98      0.98     63991\n",
      "weighted avg       0.98      0.98      0.98     63991\n",
      "\n"
     ]
    }
   ],
   "source": [
    "print(metrics.classification_report(y_test2, tree_y_pred2))"
   ]
  },
  {
   "cell_type": "markdown",
   "metadata": {},
   "source": [
    "If we compare the results of multicalss vs binary for the target variable, the 'successful' score is about the same at .97 for both precision and recall, but by creating a binary target variable, the precision and recall for nonpositive or 'failed/canceled, etc.' labels score is higher in precision. "
   ]
  },
  {
   "cell_type": "code",
   "execution_count": 27,
   "metadata": {},
   "outputs": [
    {
     "data": {
      "image/png": "[encoded data removed]",
      "text/plain": [
       "<Figure size 432x288 with 1 Axes>"
      ]
     },
     "metadata": {
      "needs_background": "light"
     },
     "output_type": "display_data"
    }
   ],
   "source": [
    "metrics.plot_roc_curve(decision_tree, X_test2, y_test2)\n",
    "plt.show()"
   ]
  },
  {
   "cell_type": "code",
   "execution_count": 28,
   "metadata": {},
   "outputs": [
    {
     "name": "stdout",
     "output_type": "stream",
     "text": [
      "AUC: 0.994372667947362\n"
     ]
    }
   ],
   "source": [
    "auc = metrics.roc_auc_score(y_test2, decision_tree.predict_proba(X_test2)[:,1])\n",
    "print(\"AUC:\",auc)"
   ]
  },
  {
   "cell_type": "markdown",
   "metadata": {},
   "source": [
    "# RandomForestClassifier \n"
   ]
  },
  {
   "cell_type": "code",
   "execution_count": 29,
   "metadata": {},
   "outputs": [],
   "source": [
    "from sklearn.ensemble import RandomForestClassifier\n",
    "from sklearn.model_selection import RandomizedSearchCV\n",
    "forest = RandomForestClassifier()\n",
    "#better to keep max depth flexible, and then gridsearch for n_estimators "
   ]
  },
  {
   "cell_type": "code",
   "execution_count": 30,
   "metadata": {},
   "outputs": [],
   "source": [
    "#can we use the same max depth as before? or should we do another gridsearch to figure it out for this classifier \n",
    "\n",
    "#param_grid = {'n_estimators': [50, 100]}\n",
    "#forest_randomsearchcv = RandomizedSearchCV(forest, param_grid)\n",
    "#forest_randomsearchcv.fit(X_train, y_train)\n",
    "#forest_randomsearchcv.best_params_"
   ]
  },
  {
   "cell_type": "code",
   "execution_count": 31,
   "metadata": {},
   "outputs": [],
   "source": [
    "forest = RandomForestClassifier(n_estimators = 100)"
   ]
  },
  {
   "cell_type": "code",
   "execution_count": 32,
   "metadata": {},
   "outputs": [],
   "source": [
    "forest.fit(X_train, y_train)\n",
    "forest_y_pred = forest.predict(X_test)"
   ]
  },
  {
   "cell_type": "code",
   "execution_count": 33,
   "metadata": {},
   "outputs": [
    {
     "data": {
      "image/png": "[encoded data removed]",
      "text/plain": [
       "<Figure size 432x288 with 2 Axes>"
      ]
     },
     "metadata": {
      "needs_background": "light"
     },
     "output_type": "display_data"
    }
   ],
   "source": [
    "metrics.plot_confusion_matrix(forest, X_test, y_test, cmap=plt.cm.Blues)\n",
    "plt.title('Random Forest Confusion Matrix')\n",
    "plt.xticks(rotation=30)\n",
    "plt.show()"
   ]
  },
  {
   "cell_type": "code",
   "execution_count": 34,
   "metadata": {
    "scrolled": false
   },
   "outputs": [
    {
     "name": "stdout",
     "output_type": "stream",
     "text": [
      "              precision    recall  f1-score   support\n",
      "\n",
      "    canceled       0.24      0.07      0.10      6515\n",
      "      failed       0.82      0.94      0.88     33752\n",
      "        live       0.32      0.06      0.10       895\n",
      "  successful       0.96      0.98      0.97     22557\n",
      "   suspended       0.04      0.01      0.01       272\n",
      "\n",
      "    accuracy                           0.85     63991\n",
      "   macro avg       0.48      0.41      0.41     63991\n",
      "weighted avg       0.80      0.85      0.82     63991\n",
      "\n"
     ]
    }
   ],
   "source": [
    "print(metrics.classification_report(y_test, forest_y_pred))"
   ]
  },
  {
   "cell_type": "markdown",
   "metadata": {},
   "source": [
    "# Balanced Random Forest Classifier"
   ]
  },
  {
   "cell_type": "code",
   "execution_count": 35,
   "metadata": {},
   "outputs": [],
   "source": [
    "from imblearn.ensemble import BalancedRandomForestClassifier\n",
    "brf = BalancedRandomForestClassifier(n_estimators = 100)\n",
    "brf.fit(X_train, y_train)\n",
    "brf_y_pred = brf.predict(X_test)"
   ]
  },
  {
   "cell_type": "code",
   "execution_count": 36,
   "metadata": {
    "scrolled": true
   },
   "outputs": [
    {
     "name": "stdout",
     "output_type": "stream",
     "text": [
      "              precision    recall  f1-score   support\n",
      "\n",
      "    canceled       0.21      0.33      0.26      6515\n",
      "      failed       0.88      0.42      0.57     33752\n",
      "        live       0.08      0.51      0.13       895\n",
      "  successful       0.91      0.90      0.90     22557\n",
      "   suspended       0.01      0.40      0.02       272\n",
      "\n",
      "    accuracy                           0.58     63991\n",
      "   macro avg       0.42      0.51      0.38     63991\n",
      "weighted avg       0.81      0.58      0.65     63991\n",
      "\n"
     ]
    }
   ],
   "source": [
    "print(metrics.classification_report(y_test, brf_y_pred))"
   ]
  },
  {
   "cell_type": "code",
   "execution_count": 63,
   "metadata": {},
   "outputs": [
    {
     "data": {
      "text/plain": [
       "Text(0.5, 1.0, 'Feature Importance for Random Forest')"
      ]
     },
     "execution_count": 63,
     "metadata": {},
     "output_type": "execute_result"
    },
    {
     "data": {
      "image/png": "[encoded data removed]",
      "text/plain": [
       "<Figure size 432x288 with 1 Axes>"
      ]
     },
     "metadata": {
      "needs_background": "light"
     },
     "output_type": "display_data"
    }
   ],
   "source": [
    "importances2 = forest.feature_importances_\n",
    "importances2 = pd.Series(importances, index=X_test.columns)\n",
    "importances2.nlargest(5).plot(kind = 'barh')\n",
    "plt.title('Feature Importance for Random Forest')\n",
    "\n",
    "#it looks like the same three features are listed in the Random Forest model"
   ]
  },
  {
   "cell_type": "markdown",
   "metadata": {},
   "source": [
    "# Binary Classificaiton for Random Forest "
   ]
  },
  {
   "cell_type": "code",
   "execution_count": 37,
   "metadata": {},
   "outputs": [
    {
     "name": "stderr",
     "output_type": "stream",
     "text": [
      "<ipython-input-37-d391109edb05>:1: DataConversionWarning: A column-vector y was passed when a 1d array was expected. Please change the shape of y to (n_samples,), for example using ravel().\n",
      "  forest.fit(X_train2, y_train2)\n"
     ]
    }
   ],
   "source": [
    "forest.fit(X_train2, y_train2)\n",
    "forest_y_pred2 = forest.predict(X_test2)"
   ]
  },
  {
   "cell_type": "code",
   "execution_count": 38,
   "metadata": {},
   "outputs": [
    {
     "data": {
      "image/png": "[encoded data removed]",
      "text/plain": [
       "<Figure size 432x288 with 2 Axes>"
      ]
     },
     "metadata": {
      "needs_background": "light"
     },
     "output_type": "display_data"
    }
   ],
   "source": [
    "metrics.plot_confusion_matrix(forest, X_test2, y_test2, cmap=plt.cm.Blues)\n",
    "plt.title('Forest Binary Confusion Matrix')\n",
    "plt.show()"
   ]
  },
  {
   "cell_type": "code",
   "execution_count": 39,
   "metadata": {},
   "outputs": [
    {
     "name": "stdout",
     "output_type": "stream",
     "text": [
      "              precision    recall  f1-score   support\n",
      "\n",
      "           0       0.99      0.98      0.98     41434\n",
      "           1       0.97      0.97      0.97     22557\n",
      "\n",
      "    accuracy                           0.98     63991\n",
      "   macro avg       0.98      0.98      0.98     63991\n",
      "weighted avg       0.98      0.98      0.98     63991\n",
      "\n"
     ]
    }
   ],
   "source": [
    "print(metrics.classification_report(y_test2, forest_y_pred2))"
   ]
  },
  {
   "cell_type": "code",
   "execution_count": 40,
   "metadata": {},
   "outputs": [
    {
     "data": {
      "image/png": "[encoded data removed]",
      "text/plain": [
       "<Figure size 432x288 with 1 Axes>"
      ]
     },
     "metadata": {
      "needs_background": "light"
     },
     "output_type": "display_data"
    }
   ],
   "source": [
    "metrics.plot_roc_curve(forest, X_test2, y_test2)\n",
    "plt.show()"
   ]
  },
  {
   "cell_type": "code",
   "execution_count": 41,
   "metadata": {},
   "outputs": [
    {
     "name": "stdout",
     "output_type": "stream",
     "text": [
      "AUC: 0.9969969524882135\n"
     ]
    }
   ],
   "source": [
    "auc = metrics.roc_auc_score(y_test2, forest.predict_proba(X_test2)[:,1])\n",
    "print(\"AUC:\",auc)"
   ]
  },
  {
   "cell_type": "code",
   "execution_count": null,
   "metadata": {},
   "outputs": [],
   "source": []
  }
 ],
 "metadata": {
  "kernelspec": {
   "display_name": "Python 3",
   "language": "python",
   "name": "python3"
  },
  "language_info": {
   "codemirror_mode": {
    "name": "ipython",
    "version": 3
   },
   "file_extension": ".py",
   "mimetype": "text/x-python",
   "name": "python",
   "nbconvert_exporter": "python",
   "pygments_lexer": "ipython3",
   "version": "3.8.5"
  }
 },
 "nbformat": 4,
 "nbformat_minor": 4
}
